{
 "cells": [
  {
   "cell_type": "code",
   "execution_count": 3,
   "metadata": {},
   "outputs": [],
   "source": [
    "import numpy as np\n",
    "from keras.preprocessing import image\n",
    "from keras.applications import resnet50\n",
    "\n",
    "# Load Keras' ResNet50 model that was pre-trained against the ImageNet database\n",
    "model = resnet50.ResNet50()\n",
    "# Load the image file, resizing it to 224x224 pixels (required by this model)\n",
    "img=image.load_img(\"bay.jpg\",target_size=(224,224))\n",
    "\n"
   ]
  },
  {
   "cell_type": "code",
   "execution_count": 4,
   "metadata": {},
   "outputs": [],
   "source": [
    "# Convert the image to a numpy array\n",
    "x =image.img_to_array(img)\n",
    "#returns 3d array (1st two dimensions are height and width, 3rd dimension is colour RGB)\n",
    "\n",
    "# Add a forth dimension since Keras expects a list of images\n",
    "x =np.expand_dims(x,axis=0)\n",
    "\n",
    "# Scale the input image to the range used in the trained network\n",
    "x =resnet50.preprocess_input(x)\n",
    "\n",
    "# Run the image through the deep neural network to make a prediction\n",
    "predictions =model.predict(x)\n",
    "\n"
   ]
  },
  {
   "cell_type": "code",
   "execution_count": 6,
   "metadata": {},
   "outputs": [
    {
     "data": {
      "text/plain": [
       "[[('n09428293', 'seashore', 0.4827284),\n",
       "  ('n09332890', 'lakeside', 0.32996255),\n",
       "  ('n03216828', 'dock', 0.10520761),\n",
       "  ('n02894605', 'breakwater', 0.0517786),\n",
       "  ('n09399592', 'promontory', 0.009502644),\n",
       "  ('n02981792', 'catamaran', 0.004744125),\n",
       "  ('n09421951', 'sandbar', 0.0023745613),\n",
       "  ('n04483307', 'trimaran', 0.0012486666),\n",
       "  ('n03933933', 'pier', 0.0011719677)]]"
      ]
     },
     "execution_count": 6,
     "metadata": {},
     "output_type": "execute_result"
    }
   ],
   "source": [
    "# Look up the names of the predicted classes. Index zero is the results for the first image.\n",
    "predicted_classes =resnet50.decode_predictions(predictions, top=9)\n",
    "\n",
    "predicted_classes"
   ]
  },
  {
   "cell_type": "code",
   "execution_count": 7,
   "metadata": {},
   "outputs": [
    {
     "name": "stdout",
     "output_type": "stream",
     "text": [
      "This is an image of:\n",
      " - seashore: 0.482728 likelihood\n",
      " - lakeside: 0.329963 likelihood\n",
      " - dock: 0.105208 likelihood\n",
      " - breakwater: 0.051779 likelihood\n",
      " - promontory: 0.009503 likelihood\n",
      " - catamaran: 0.004744 likelihood\n",
      " - sandbar: 0.002375 likelihood\n",
      " - trimaran: 0.001249 likelihood\n",
      " - pier: 0.001172 likelihood\n"
     ]
    }
   ],
   "source": [
    "print(\"This is an image of:\")\n",
    "\n",
    "for imagenet_id, name, likelihood in predicted_classes[0]:\n",
    "    print(\" - {}: {:2f} likelihood\".format(name, likelihood))"
   ]
  },
  {
   "cell_type": "code",
   "execution_count": null,
   "metadata": {},
   "outputs": [],
   "source": []
  }
 ],
 "metadata": {
  "kernelspec": {
   "display_name": "Python 3",
   "language": "python",
   "name": "python3"
  },
  "language_info": {
   "codemirror_mode": {
    "name": "ipython",
    "version": 3
   },
   "file_extension": ".py",
   "mimetype": "text/x-python",
   "name": "python",
   "nbconvert_exporter": "python",
   "pygments_lexer": "ipython3",
   "version": "3.7.4"
  }
 },
 "nbformat": 4,
 "nbformat_minor": 2
}
