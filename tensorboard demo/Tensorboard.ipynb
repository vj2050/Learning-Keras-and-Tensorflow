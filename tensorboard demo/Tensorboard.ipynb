{
 "cells": [
  {
   "cell_type": "code",
   "execution_count": 1,
   "metadata": {},
   "outputs": [],
   "source": [
    "#pip install jupyter-tensorboard\n"
   ]
  },
  {
   "cell_type": "code",
   "execution_count": 30,
   "metadata": {},
   "outputs": [
    {
     "name": "stdout",
     "output_type": "stream",
     "text": [
      "The tensorboard extension is already loaded. To reload it, use:\n",
      "  %reload_ext tensorboard\n"
     ]
    }
   ],
   "source": [
    "%load_ext tensorboard"
   ]
  },
  {
   "cell_type": "code",
   "execution_count": 31,
   "metadata": {},
   "outputs": [],
   "source": [
    "import keras\n",
    "import tensorflow as tf\n",
    "from tensorflow.keras.models import Sequential\n",
    "from tensorflow.python.keras.callbacks import TensorBoard\n",
    "from tensorflow.keras.layers import *\n",
    "import pandas as pd\n",
    "import datetime, os \n",
    "\n",
    "RUN_NAME = 'run 1 with 50 nodes'"
   ]
  },
  {
   "cell_type": "code",
   "execution_count": 33,
   "metadata": {},
   "outputs": [
    {
     "ename": "SyntaxError",
     "evalue": "invalid syntax (<ipython-input-33-6971aff193cc>, line 21)",
     "output_type": "error",
     "traceback": [
      "\u001b[1;36m  File \u001b[1;32m\"<ipython-input-33-6971aff193cc>\"\u001b[1;36m, line \u001b[1;32m21\u001b[0m\n\u001b[1;33m    log_dir='\\logs\\{}'.format{RUN_NAME},\u001b[0m\n\u001b[1;37m                             ^\u001b[0m\n\u001b[1;31mSyntaxError\u001b[0m\u001b[1;31m:\u001b[0m invalid syntax\n"
     ]
    }
   ],
   "source": [
    "training_data_df = pd.read_csv(\"sales_data_training_scaled.csv\")\n",
    "\n",
    "X_train = training_data_df.drop('total_earnings', axis=1).values\n",
    "Y_train = training_data_df[['total_earnings']].values\n",
    "\n",
    "X_train, X_val, Y_train, Y_val = train_test_split( X, Y, test_size=0.2)\n",
    "\n",
    "# Define the model\n",
    "model = Sequential()\n",
    "model.add(Dense(50, input_dim=9, activation='relu', name='layer_1'))\n",
    "model.add(Dense(100, activation='relu', name='layer_2'))\n",
    "model.add(Dense(50, activation='relu', name='layer_3'))\n",
    "model.add(Dense(1, activation='linear', name='output_layer'))\n",
    "model.compile(loss='mean_squared_error', optimizer='adam')\n",
    "\n",
    "# Create a TensorBoard logger\n",
    "\n",
    "#logdir = os.path.join(logs_base_dir, datetime.datetime.now().strftime(\"%Y%m%d-%H%M%S\"))\n",
    "\n",
    "logger=keras.callbacks.TensorBoard(\n",
    "    log_dir='\\logs\\{}'.format{RUN_NAME},\n",
    "    write_graph=True,\n",
    "    histogram_freq=5\n",
    ")\n"
   ]
  },
  {
   "cell_type": "code",
   "execution_count": 11,
   "metadata": {},
   "outputs": [
    {
     "name": "stdout",
     "output_type": "stream",
     "text": [
      "Train on 1000 samples\n",
      "Epoch 1/50\n",
      "1000/1000 - 1s - loss: 0.0172\n",
      "Epoch 2/50\n",
      "1000/1000 - 0s - loss: 0.0032\n",
      "Epoch 3/50\n",
      "1000/1000 - 0s - loss: 8.3302e-04\n",
      "Epoch 4/50\n",
      "1000/1000 - 0s - loss: 3.6477e-04\n",
      "Epoch 5/50\n",
      "1000/1000 - 0s - loss: 2.2398e-04\n",
      "Epoch 6/50\n",
      "1000/1000 - 0s - loss: 1.3151e-04\n",
      "Epoch 7/50\n",
      "1000/1000 - 0s - loss: 9.3330e-05\n",
      "Epoch 8/50\n",
      "1000/1000 - 0s - loss: 7.5204e-05\n",
      "Epoch 9/50\n",
      "1000/1000 - 0s - loss: 6.2792e-05\n",
      "Epoch 10/50\n",
      "1000/1000 - 0s - loss: 5.1876e-05\n",
      "Epoch 11/50\n",
      "1000/1000 - 0s - loss: 4.7216e-05\n",
      "Epoch 12/50\n",
      "1000/1000 - 0s - loss: 4.3901e-05\n",
      "Epoch 13/50\n",
      "1000/1000 - 0s - loss: 3.7193e-05\n",
      "Epoch 14/50\n",
      "1000/1000 - 0s - loss: 3.3943e-05\n",
      "Epoch 15/50\n",
      "1000/1000 - 0s - loss: 3.5258e-05\n",
      "Epoch 16/50\n",
      "1000/1000 - 0s - loss: 2.9875e-05\n",
      "Epoch 17/50\n",
      "1000/1000 - 0s - loss: 3.7632e-05\n",
      "Epoch 18/50\n",
      "1000/1000 - 0s - loss: 2.9186e-05\n",
      "Epoch 19/50\n",
      "1000/1000 - 0s - loss: 2.8949e-05\n",
      "Epoch 20/50\n",
      "1000/1000 - 0s - loss: 2.4114e-05\n",
      "Epoch 21/50\n",
      "1000/1000 - 0s - loss: 2.4644e-05\n",
      "Epoch 22/50\n",
      "1000/1000 - 0s - loss: 2.4994e-05\n",
      "Epoch 23/50\n",
      "1000/1000 - 0s - loss: 3.2589e-05\n",
      "Epoch 24/50\n",
      "1000/1000 - 0s - loss: 2.6855e-05\n",
      "Epoch 25/50\n",
      "1000/1000 - 0s - loss: 3.1968e-05\n",
      "Epoch 26/50\n",
      "1000/1000 - 0s - loss: 2.7402e-05\n",
      "Epoch 27/50\n",
      "1000/1000 - 0s - loss: 2.2890e-05\n",
      "Epoch 28/50\n",
      "1000/1000 - 0s - loss: 2.8618e-05\n",
      "Epoch 29/50\n",
      "1000/1000 - 0s - loss: 2.1218e-05\n",
      "Epoch 30/50\n",
      "1000/1000 - 0s - loss: 2.1584e-05\n",
      "Epoch 31/50\n",
      "1000/1000 - 0s - loss: 3.0097e-05\n",
      "Epoch 32/50\n",
      "1000/1000 - 0s - loss: 2.4822e-05\n",
      "Epoch 33/50\n",
      "1000/1000 - 0s - loss: 3.0227e-05\n",
      "Epoch 34/50\n",
      "1000/1000 - 0s - loss: 2.1863e-05\n",
      "Epoch 35/50\n",
      "1000/1000 - 0s - loss: 2.2585e-05\n",
      "Epoch 36/50\n",
      "1000/1000 - 0s - loss: 2.6931e-05\n",
      "Epoch 37/50\n",
      "1000/1000 - 0s - loss: 1.8952e-05\n",
      "Epoch 38/50\n",
      "1000/1000 - 0s - loss: 2.3502e-05\n",
      "Epoch 39/50\n",
      "1000/1000 - 0s - loss: 3.5325e-05\n",
      "Epoch 40/50\n",
      "1000/1000 - 0s - loss: 5.3422e-05\n",
      "Epoch 41/50\n",
      "1000/1000 - 0s - loss: 7.2098e-05\n",
      "Epoch 42/50\n",
      "1000/1000 - 0s - loss: 3.3857e-05\n",
      "Epoch 43/50\n",
      "1000/1000 - 0s - loss: 5.1654e-05\n",
      "Epoch 44/50\n",
      "1000/1000 - 0s - loss: 2.7630e-05\n",
      "Epoch 45/50\n",
      "1000/1000 - 0s - loss: 3.5511e-05\n",
      "Epoch 46/50\n",
      "1000/1000 - 0s - loss: 2.5112e-05\n",
      "Epoch 47/50\n",
      "1000/1000 - 0s - loss: 2.0068e-05\n",
      "Epoch 48/50\n",
      "1000/1000 - 0s - loss: 2.3073e-05\n",
      "Epoch 49/50\n",
      "1000/1000 - 0s - loss: 2.2309e-05\n",
      "Epoch 50/50\n",
      "1000/1000 - 0s - loss: 2.7475e-05\n",
      "The mean squared error (MSE) for the test data set is: 8.226935693528503e-05\n"
     ]
    }
   ],
   "source": [
    "# Train the model\n",
    "model.fit(\n",
    "    X_train,\n",
    "    Y_train,\n",
    "    epochs=50,\n",
    "    shuffle=True,\n",
    "    verbose=2,\n",
    "    validation_data=(X_val,Y_val),\n",
    "    callbacks=[logger]\n",
    ")\n",
    "\n",
    "# Load the separate test data set\n",
    "test_data_df = pd.read_csv(\"sales_data_test_scaled.csv\")\n",
    "\n",
    "X_test = test_data_df.drop('total_earnings', axis=1).values\n",
    "Y_test = test_data_df[['total_earnings']].values\n",
    "\n",
    "test_error_rate = model.evaluate(X_test, Y_test, verbose=0)\n",
    "print(\"The mean squared error (MSE) for the test data set is: {}\".format(test_error_rate))"
   ]
  },
  {
   "cell_type": "code",
   "execution_count": 18,
   "metadata": {},
   "outputs": [
    {
     "data": {
      "text/plain": [
       "Reusing TensorBoard on port 6006 (pid 18864), started 0:14:56 ago. (Use '!kill 18864' to kill it.)"
      ]
     },
     "metadata": {},
     "output_type": "display_data"
    },
    {
     "data": {
      "text/html": [
       "\n",
       "      <iframe id=\"tensorboard-frame-5bc3be9a52c4f773\" width=\"100%\" height=\"800\" frameborder=\"0\">\n",
       "      </iframe>\n",
       "      <script>\n",
       "        (function() {\n",
       "          const frame = document.getElementById(\"tensorboard-frame-5bc3be9a52c4f773\");\n",
       "          const url = new URL(\"/\", window.location);\n",
       "          url.port = 6006;\n",
       "          frame.src = url;\n",
       "        })();\n",
       "      </script>\n",
       "  "
      ],
      "text/plain": [
       "<IPython.core.display.HTML object>"
      ]
     },
     "metadata": {},
     "output_type": "display_data"
    }
   ],
   "source": [
    "logs_base_dir = \"./logs\"\n",
    "#os.makedirs(logs_base_dir, exist_ok=True)\n",
    "%tensorboard --logdir {logs_base_dir}"
   ]
  },
  {
   "cell_type": "code",
   "execution_count": null,
   "metadata": {},
   "outputs": [],
   "source": []
  },
  {
   "cell_type": "code",
   "execution_count": null,
   "metadata": {},
   "outputs": [],
   "source": []
  }
 ],
 "metadata": {
  "kernelspec": {
   "display_name": "Python 3",
   "language": "python",
   "name": "python3"
  },
  "language_info": {
   "codemirror_mode": {
    "name": "ipython",
    "version": 3
   },
   "file_extension": ".py",
   "mimetype": "text/x-python",
   "name": "python",
   "nbconvert_exporter": "python",
   "pygments_lexer": "ipython3",
   "version": "3.7.4"
  }
 },
 "nbformat": 4,
 "nbformat_minor": 2
}
