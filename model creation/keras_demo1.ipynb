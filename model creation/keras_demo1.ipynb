{
 "cells": [
  {
   "cell_type": "code",
   "execution_count": 1,
   "metadata": {},
   "outputs": [
    {
     "name": "stderr",
     "output_type": "stream",
     "text": [
      "Using TensorFlow backend.\n"
     ]
    }
   ],
   "source": [
    "import pandas as pd\n",
    "from keras.models import Sequential\n",
    "from keras.layers import *"
   ]
  },
  {
   "cell_type": "code",
   "execution_count": 2,
   "metadata": {},
   "outputs": [
    {
     "data": {
      "text/plain": [
       "array([[0.5       , 1.        , 0.        , ..., 0.        , 0.        ,\n",
       "        1.        ],\n",
       "       [0.83333333, 0.        , 0.        , ..., 1.        , 0.        ,\n",
       "        0.5       ],\n",
       "       [0.33333333, 0.        , 0.        , ..., 1.        , 0.        ,\n",
       "        0.5       ],\n",
       "       ...,\n",
       "       [0.83333333, 0.        , 1.        , ..., 0.        , 0.        ,\n",
       "        1.        ],\n",
       "       [0.5       , 1.        , 1.        , ..., 0.        , 1.        ,\n",
       "        0.        ],\n",
       "       [0.33333333, 1.        , 0.        , ..., 0.        , 1.        ,\n",
       "        0.5       ]])"
      ]
     },
     "execution_count": 2,
     "metadata": {},
     "output_type": "execute_result"
    }
   ],
   "source": [
    "training_data_df = pd.read_csv(\"sales_data_training_scaled.csv\")\n",
    "\n",
    "X_train = training_data_df.drop('total_earnings', axis=1).values\n",
    "Y_train = training_data_df[['total_earnings']].values\n",
    "X_train"
   ]
  },
  {
   "cell_type": "code",
   "execution_count": 3,
   "metadata": {},
   "outputs": [],
   "source": [
    "# Define the model\n",
    "model = Sequential()\n",
    "\n",
    "model.add(Dense(50,input_dim=9,activation = 'relu'))   #9=number of attributes\n",
    "model.add(Dense(100,activation = 'relu'))\n",
    "model.add(Dense(50,activation = 'relu'))\n",
    "model.add(Dense(1,activation='linear'))   #since final output is 1 single linear valued node hence 1 hence linear actv\n",
    "\n",
    "model.compile(optimizer='adam',loss='mean_squared_error')"
   ]
  },
  {
   "cell_type": "code",
   "execution_count": 4,
   "metadata": {},
   "outputs": [],
   "source": [
    "#train the model "
   ]
  },
  {
   "cell_type": "code",
   "execution_count": 5,
   "metadata": {},
   "outputs": [
    {
     "name": "stdout",
     "output_type": "stream",
     "text": [
      "Epoch 1/50\n",
      " - 0s - loss: 0.0147\n",
      "Epoch 2/50\n",
      " - 0s - loss: 0.0024\n",
      "Epoch 3/50\n",
      " - 0s - loss: 8.5042e-04\n",
      "Epoch 4/50\n",
      " - 0s - loss: 4.2635e-04\n",
      "Epoch 5/50\n",
      " - 0s - loss: 2.3017e-04\n",
      "Epoch 6/50\n",
      " - 0s - loss: 1.5252e-04\n",
      "Epoch 7/50\n",
      " - 0s - loss: 1.1335e-04\n",
      "Epoch 8/50\n",
      " - 0s - loss: 8.6212e-05\n",
      "Epoch 9/50\n",
      " - 0s - loss: 9.2704e-05\n",
      "Epoch 10/50\n",
      " - 0s - loss: 8.2535e-05\n",
      "Epoch 11/50\n",
      " - 0s - loss: 1.1289e-04\n",
      "Epoch 12/50\n",
      " - 0s - loss: 6.0494e-05\n",
      "Epoch 13/50\n",
      " - 0s - loss: 5.5852e-05\n",
      "Epoch 14/50\n",
      " - 0s - loss: 6.4547e-05\n",
      "Epoch 15/50\n",
      " - 0s - loss: 6.4303e-05\n",
      "Epoch 16/50\n",
      " - 0s - loss: 4.8740e-05\n",
      "Epoch 17/50\n",
      " - 0s - loss: 4.1255e-05\n",
      "Epoch 18/50\n",
      " - 0s - loss: 3.4226e-05\n",
      "Epoch 19/50\n",
      " - 0s - loss: 3.2108e-05\n",
      "Epoch 20/50\n",
      " - 0s - loss: 3.6417e-05\n",
      "Epoch 21/50\n",
      " - 0s - loss: 4.1623e-05\n",
      "Epoch 22/50\n",
      " - 0s - loss: 4.1201e-05\n",
      "Epoch 23/50\n",
      " - 0s - loss: 5.2954e-05\n",
      "Epoch 24/50\n",
      " - 0s - loss: 5.8912e-05\n",
      "Epoch 25/50\n",
      " - 0s - loss: 3.4308e-05\n",
      "Epoch 26/50\n",
      " - 0s - loss: 2.9612e-05\n",
      "Epoch 27/50\n",
      " - 0s - loss: 4.3719e-05\n",
      "Epoch 28/50\n",
      " - 0s - loss: 3.7295e-05\n",
      "Epoch 29/50\n",
      " - 0s - loss: 3.4478e-05\n",
      "Epoch 30/50\n",
      " - 0s - loss: 2.8588e-05\n",
      "Epoch 31/50\n",
      " - 0s - loss: 2.4548e-05\n",
      "Epoch 32/50\n",
      " - 0s - loss: 3.4691e-05\n",
      "Epoch 33/50\n",
      " - 0s - loss: 3.5933e-05\n",
      "Epoch 34/50\n",
      " - 0s - loss: 3.1581e-05\n",
      "Epoch 35/50\n",
      " - 0s - loss: 2.6024e-05\n",
      "Epoch 36/50\n",
      " - 0s - loss: 2.9681e-05\n",
      "Epoch 37/50\n",
      " - 0s - loss: 3.6820e-05\n",
      "Epoch 38/50\n",
      " - 0s - loss: 6.2474e-05\n",
      "Epoch 39/50\n",
      " - 0s - loss: 3.7122e-05\n",
      "Epoch 40/50\n",
      " - 0s - loss: 4.0160e-05\n",
      "Epoch 41/50\n",
      " - 0s - loss: 4.3134e-05\n",
      "Epoch 42/50\n",
      " - 0s - loss: 3.5236e-05\n",
      "Epoch 43/50\n",
      " - 0s - loss: 4.3382e-05\n",
      "Epoch 44/50\n",
      " - 0s - loss: 3.2468e-05\n",
      "Epoch 45/50\n",
      " - 0s - loss: 9.2399e-05\n",
      "Epoch 46/50\n",
      " - 0s - loss: 8.4938e-05\n",
      "Epoch 47/50\n",
      " - 0s - loss: 6.2452e-05\n",
      "Epoch 48/50\n",
      " - 0s - loss: 5.7478e-05\n",
      "Epoch 49/50\n",
      " - 0s - loss: 4.0445e-05\n",
      "Epoch 50/50\n",
      " - 0s - loss: 3.4780e-05\n"
     ]
    }
   ],
   "source": [
    "model.fit(X_train,Y_train,epochs=50,shuffle=True,verbose=2)   # verbose displays details while running\n",
    "\n",
    "test_data_df=pd.read_csv(\"sales_data_testing_scaled.csv\")\n",
    "X_test=test_data_df.drop('total_earnings',axis=1).values\n",
    "Y_test=test_data_df[['total_earnings']].values\n"
   ]
  },
  {
   "cell_type": "code",
   "execution_count": 6,
   "metadata": {},
   "outputs": [
    {
     "name": "stdout",
     "output_type": "stream",
     "text": [
      "mean squared test error rate is : 7.596091629238799e-05\n"
     ]
    }
   ],
   "source": [
    "test_error_rate=model.evaluate(X_test,Y_test,verbose=0)\n",
    "print(\"mean squared test error rate is : {}\".format(test_error_rate))"
   ]
  },
  {
   "cell_type": "code",
   "execution_count": 13,
   "metadata": {},
   "outputs": [
    {
     "data": {
      "text/html": [
       "<div>\n",
       "<style scoped>\n",
       "    .dataframe tbody tr th:only-of-type {\n",
       "        vertical-align: middle;\n",
       "    }\n",
       "\n",
       "    .dataframe tbody tr th {\n",
       "        vertical-align: top;\n",
       "    }\n",
       "\n",
       "    .dataframe thead th {\n",
       "        text-align: right;\n",
       "    }\n",
       "</style>\n",
       "<table border=\"1\" class=\"dataframe\">\n",
       "  <thead>\n",
       "    <tr style=\"text-align: right;\">\n",
       "      <th></th>\n",
       "      <th>critic_rating</th>\n",
       "      <th>is_action</th>\n",
       "      <th>is_exclusive_to_us</th>\n",
       "      <th>is_portable</th>\n",
       "      <th>is_role_playing</th>\n",
       "      <th>is_sequel</th>\n",
       "      <th>is_sports</th>\n",
       "      <th>suitable_for_kids</th>\n",
       "      <th>unit_price</th>\n",
       "    </tr>\n",
       "  </thead>\n",
       "  <tbody>\n",
       "    <tr>\n",
       "      <td>0</td>\n",
       "      <td>0.7</td>\n",
       "      <td>1.0</td>\n",
       "      <td>1.0</td>\n",
       "      <td>1.0</td>\n",
       "      <td>0.0</td>\n",
       "      <td>1.0</td>\n",
       "      <td>0.0</td>\n",
       "      <td>1.0</td>\n",
       "      <td>0.8</td>\n",
       "    </tr>\n",
       "  </tbody>\n",
       "</table>\n",
       "</div>"
      ],
      "text/plain": [
       "   critic_rating  is_action  is_exclusive_to_us  is_portable  is_role_playing  \\\n",
       "0            0.7        1.0                 1.0          1.0              0.0   \n",
       "\n",
       "   is_sequel  is_sports  suitable_for_kids  unit_price  \n",
       "0        1.0        0.0                1.0         0.8  "
      ]
     },
     "execution_count": 13,
     "metadata": {},
     "output_type": "execute_result"
    }
   ],
   "source": [
    "X_new=pd.read_csv(\"proposed_new_product.csv\")\n",
    "X_new.values\n",
    "X_new"
   ]
  },
  {
   "cell_type": "code",
   "execution_count": 8,
   "metadata": {
    "scrolled": true
   },
   "outputs": [
    {
     "data": {
      "text/plain": [
       "array([[0.8548732]], dtype=float32)"
      ]
     },
     "execution_count": 8,
     "metadata": {},
     "output_type": "execute_result"
    }
   ],
   "source": [
    "Y_pred=model.predict(X_new)\n",
    "Y_pred"
   ]
  },
  {
   "cell_type": "code",
   "execution_count": 9,
   "metadata": {},
   "outputs": [],
   "source": [
    "#this always returns 2D array, that is here list of lists"
   ]
  },
  {
   "cell_type": "code",
   "execution_count": 10,
   "metadata": {},
   "outputs": [],
   "source": [
    "Y_pred=Y_pred[0][0]"
   ]
  },
  {
   "cell_type": "code",
   "execution_count": 11,
   "metadata": {},
   "outputs": [
    {
     "data": {
      "text/plain": [
       "0.8548732"
      ]
     },
     "execution_count": 11,
     "metadata": {},
     "output_type": "execute_result"
    }
   ],
   "source": [
    "Y_pred"
   ]
  },
  {
   "cell_type": "code",
   "execution_count": 12,
   "metadata": {},
   "outputs": [
    {
     "name": "stdout",
     "output_type": "stream",
     "text": [
      "Earnings Prediction for Proposed Product - $262598.2418279064\n"
     ]
    }
   ],
   "source": [
    "# Re-scale the data from the 0-to-1 range back to dollars\n",
    "# These constants are from when the data was originally scaled down to the 0-to-1 range\n",
    "Y_pred = Y_pred + 0.1159\n",
    "Y_pred = Y_pred / 0.0000036968\n",
    "\n",
    "print(\"Earnings Prediction for Proposed Product - ${}\".format(Y_pred))"
   ]
  },
  {
   "cell_type": "code",
   "execution_count": null,
   "metadata": {},
   "outputs": [],
   "source": []
  }
 ],
 "metadata": {
  "kernelspec": {
   "display_name": "Python 3",
   "language": "python",
   "name": "python3"
  },
  "language_info": {
   "codemirror_mode": {
    "name": "ipython",
    "version": 3
   },
   "file_extension": ".py",
   "mimetype": "text/x-python",
   "name": "python",
   "nbconvert_exporter": "python",
   "pygments_lexer": "ipython3",
   "version": "3.7.4"
  }
 },
 "nbformat": 4,
 "nbformat_minor": 2
}
